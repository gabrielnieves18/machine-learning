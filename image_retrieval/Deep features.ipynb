{
 "cells": [
  {
   "cell_type": "code",
   "execution_count": 2,
   "metadata": {},
   "outputs": [],
   "source": [
    "import os\n",
    "\n",
    "from glob import glob\n",
    "\n",
    "import numpy as np\n",
    "import cv2 as cv\n",
    "import torchvision.transforms as transforms\n",
    "\n",
    "from torch.utils.data import DataLoader\n",
    "from torchvision.datasets import ImageFolder"
   ]
  },
  {
   "cell_type": "code",
   "execution_count": 3,
   "metadata": {},
   "outputs": [],
   "source": [
    "dataset_root = os.path.join('data', 'dataset')"
   ]
  },
  {
   "cell_type": "code",
   "execution_count": 12,
   "metadata": {},
   "outputs": [],
   "source": [
    "image_data = ImageFolder(dataset_root,\n",
    "                         transform=transforms.Compose([\n",
    "                             transforms.CenterCrop(224),\n",
    "                             transforms.ToTensor()\n",
    "                         ]))\n",
    "\n",
    "data_loader = DataLoader(image_data, batch_size=4,\n",
    "                         shuffle=True, num_workers=4)\n",
    "\n",
    "data_loader = iter(data_loader)"
   ]
  },
  {
   "cell_type": "code",
   "execution_count": 13,
   "metadata": {},
   "outputs": [
    {
     "data": {
      "text/plain": [
       "['California sycamore',\n",
       " 'balance',\n",
       " 'cat',\n",
       " 'clock pendulum',\n",
       " 'dog',\n",
       " 'epacris',\n",
       " 'feeder',\n",
       " 'forklift',\n",
       " 'impeller',\n",
       " 'kittiwake',\n",
       " 'military uniform',\n",
       " 'outrigger',\n",
       " 'river dolphin',\n",
       " 'rivet',\n",
       " 'skyhook']"
      ]
     },
     "execution_count": 13,
     "metadata": {},
     "output_type": "execute_result"
    }
   ],
   "source": [
    "image_data.classes"
   ]
  },
  {
   "cell_type": "code",
   "execution_count": 14,
   "metadata": {},
   "outputs": [
    {
     "data": {
      "text/plain": [
       "(torch.Size([4, 3, 224, 224]), tensor([ 0,  7, 12, 11]))"
      ]
     },
     "execution_count": 14,
     "metadata": {},
     "output_type": "execute_result"
    }
   ],
   "source": [
    "query_images, ground_truth = next(data_loader)\n",
    "query_images.shape, ground_truth"
   ]
  },
  {
   "cell_type": "code",
   "execution_count": null,
   "metadata": {},
   "outputs": [],
   "source": []
  },
  {
   "cell_type": "code",
   "execution_count": null,
   "metadata": {},
   "outputs": [],
   "source": []
  }
 ],
 "metadata": {
  "kernelspec": {
   "display_name": "Python 3",
   "language": "python",
   "name": "python3"
  },
  "language_info": {
   "codemirror_mode": {
    "name": "ipython",
    "version": 3
   },
   "file_extension": ".py",
   "mimetype": "text/x-python",
   "name": "python",
   "nbconvert_exporter": "python",
   "pygments_lexer": "ipython3",
   "version": "3.6.6"
  }
 },
 "nbformat": 4,
 "nbformat_minor": 2
}
